{
  "nbformat": 4,
  "nbformat_minor": 0,
  "metadata": {
    "colab": {
      "provenance": [],
      "collapsed_sections": [],
      "toc_visible": true,
      "authorship_tag": "ABX9TyPaXAlzyPGFA+ZqX2tkJOh9",
      "include_colab_link": true
    },
    "kernelspec": {
      "name": "python3",
      "display_name": "Python 3"
    },
    "language_info": {
      "name": "python"
    }
  },
  "cells": [
    {
      "cell_type": "markdown",
      "metadata": {
        "id": "view-in-github",
        "colab_type": "text"
      },
      "source": [
        "<a href=\"https://colab.research.google.com/github/professor91/DataCleaningAndAnalysis/blob/master/Pandas_read_write.ipynb\" target=\"_parent\"><img src=\"https://colab.research.google.com/assets/colab-badge.svg\" alt=\"Open In Colab\"/></a>"
      ]
    },
    {
      "cell_type": "code",
      "execution_count": null,
      "metadata": {
        "id": "hOOM3Jzdoht-"
      },
      "outputs": [],
      "source": [
        "import pandas as pd"
      ]
    },
    {
      "cell_type": "code",
      "source": [
        "pd.read_table('example.csv', sep=',')"
      ],
      "metadata": {
        "id": "rb-zhniypDek"
      },
      "execution_count": null,
      "outputs": []
    },
    {
      "cell_type": "code",
      "source": [
        "pd.read_csv('example.csv', header= None)"
      ],
      "metadata": {
        "id": "DJQkzJvupDgv"
      },
      "execution_count": null,
      "outputs": []
    },
    {
      "cell_type": "code",
      "source": [
        "pd.read_csv('example.csv', names= ['a','b','c','d','message'])  # to set header"
      ],
      "metadata": {
        "id": "_EVtdOJepDix"
      },
      "execution_count": null,
      "outputs": []
    },
    {
      "cell_type": "code",
      "source": [
        "names= ['a','b','c','d','message']\n",
        "pd.read_csv('example.csv', names= names, index_col= 'message')  # set index column"
      ],
      "metadata": {
        "id": "eqbpQLivpDkx"
      },
      "execution_count": null,
      "outputs": []
    },
    {
      "cell_type": "code",
      "source": [
        "pd.read_csv('example.csv', index_col= ['key1', 'key2'])    # hierarchical index"
      ],
      "metadata": {
        "id": "dTFF42vBpDnD"
      },
      "execution_count": null,
      "outputs": []
    },
    {
      "cell_type": "code",
      "source": [
        "pd.read_table('example.csv', sep='\\s+')  # using regex expressions as delimiter"
      ],
      "metadata": {
        "id": "36yzZDTnpDpx"
      },
      "execution_count": null,
      "outputs": []
    },
    {
      "cell_type": "code",
      "source": [
        "pd.read_csv('example.csv', skiprows= [0,2,3])  # skip rows that you don't wanna include in DataFrame"
      ],
      "metadata": {
        "id": "3S7xEkHzJn8R"
      },
      "execution_count": null,
      "outputs": []
    },
    {
      "cell_type": "code",
      "source": [
        "pd.isnull(df)  # tells if df has NaN values or not"
      ],
      "metadata": {
        "id": "096KA0kYJn-k"
      },
      "execution_count": null,
      "outputs": []
    },
    {
      "cell_type": "code",
      "source": [
        "pd.read_csv('example.csv', na_values=[\"NULL\"])"
      ],
      "metadata": {
        "id": "e6Xb7bstJoBM"
      },
      "execution_count": null,
      "outputs": []
    },
    {
      "cell_type": "code",
      "source": [
        "pd.read_csv('example.csv', nrows=5)  # load only 5 rows from the csv"
      ],
      "metadata": {
        "id": "scwo7nOyJoDY"
      },
      "execution_count": null,
      "outputs": []
    },
    {
      "cell_type": "code",
      "source": [
        "# lookup chuncks online"
      ],
      "metadata": {
        "id": "6qk5SAwjJoGS"
      },
      "execution_count": null,
      "outputs": []
    },
    {
      "cell_type": "code",
      "source": [
        "df= pd.read_csv('example.csv')\n",
        "df.to_csv('out.csv')"
      ],
      "metadata": {
        "id": "y999eCauK4SA"
      },
      "execution_count": null,
      "outputs": []
    },
    {
      "cell_type": "code",
      "source": [
        "# sep= '|'\n",
        "# na_rep= 'NULL'\n",
        "# index= False/True\n",
        "# header= False/True\n",
        "# columns= ['a', 'b', 'c']"
      ],
      "metadata": {
        "id": "v-ED-42dLC-p"
      },
      "execution_count": null,
      "outputs": []
    }
  ]
}